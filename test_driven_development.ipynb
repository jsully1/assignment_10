{
 "cells": [
  {
   "cell_type": "code",
   "execution_count": 1,
   "metadata": {
    "collapsed": true
   },
   "outputs": [],
   "source": [
    "#import libraries\n",
    "import pandas as pd"
   ]
  },
  {
   "cell_type": "code",
   "execution_count": 2,
   "metadata": {
    "collapsed": false,
    "scrolled": true
   },
   "outputs": [
    {
     "data": {
      "text/html": [
       "<div>\n",
       "<table border=\"1\" class=\"dataframe\">\n",
       "  <thead>\n",
       "    <tr style=\"text-align: right;\">\n",
       "      <th></th>\n",
       "      <th>Dates</th>\n",
       "      <th>Time(UT)</th>\n",
       "      <th>Lat</th>\n",
       "      <th>Long</th>\n",
       "      <th>Depth</th>\n",
       "      <th>Mag</th>\n",
       "    </tr>\n",
       "  </thead>\n",
       "  <tbody>\n",
       "    <tr>\n",
       "      <th>0</th>\n",
       "      <td>11/22/14</td>\n",
       "      <td>2:50:31</td>\n",
       "      <td>57.240</td>\n",
       "      <td>-122.544</td>\n",
       "      <td>6.0*</td>\n",
       "      <td>2.6ML</td>\n",
       "    </tr>\n",
       "    <tr>\n",
       "      <th>1</th>\n",
       "      <td>11/22/14</td>\n",
       "      <td>21:52:04</td>\n",
       "      <td>56.281</td>\n",
       "      <td>-121.909</td>\n",
       "      <td>5.0g</td>\n",
       "      <td>0</td>\n",
       "    </tr>\n",
       "    <tr>\n",
       "      <th>2</th>\n",
       "      <td>11/23/14</td>\n",
       "      <td>1:34:03</td>\n",
       "      <td>56.331</td>\n",
       "      <td>-121.873</td>\n",
       "      <td>10.0g</td>\n",
       "      <td>2.8ML</td>\n",
       "    </tr>\n",
       "    <tr>\n",
       "      <th>3</th>\n",
       "      <td>11/24/14</td>\n",
       "      <td>10:02:46</td>\n",
       "      <td>56.568</td>\n",
       "      <td>-122.376</td>\n",
       "      <td>10.0g</td>\n",
       "      <td>2.9ML</td>\n",
       "    </tr>\n",
       "    <tr>\n",
       "      <th>4</th>\n",
       "      <td>11/24/14</td>\n",
       "      <td>21:30:18</td>\n",
       "      <td>57.287</td>\n",
       "      <td>-122.778</td>\n",
       "      <td>5.0g</td>\n",
       "      <td>1.9ML</td>\n",
       "    </tr>\n",
       "  </tbody>\n",
       "</table>\n",
       "</div>"
      ],
      "text/plain": [
       "      Dates  Time(UT)     Lat     Long  Depth    Mag\n",
       "0  11/22/14   2:50:31  57.240 -122.544   6.0*  2.6ML\n",
       "1  11/22/14  21:52:04  56.281 -121.909   5.0g      0\n",
       "2  11/23/14   1:34:03  56.331 -121.873  10.0g  2.8ML\n",
       "3  11/24/14  10:02:46  56.568 -122.376  10.0g  2.9ML\n",
       "4  11/24/14  21:30:18  57.287 -122.778   5.0g  1.9ML"
      ]
     },
     "execution_count": 2,
     "metadata": {},
     "output_type": "execute_result"
    }
   ],
   "source": [
    "#create variable, and assign the dataset to variable 'filename'\n",
    "filename = '/Users/Jessi/Desktop/Final-Project/data/Earthquake_Datasets/EQCan2014-2015.csv' #created a variable that it would be easy to call\n",
    "\n",
    "earthquakes_14_to_15 = pd.read_csv(filename, sep = ',')\n",
    "#made dataframe into variable, check the data\n",
    "earthquakes_14_to_15.head()\n",
    "#I can see that there is some letters in my data...this might be a problem"
   ]
  },
  {
   "cell_type": "code",
   "execution_count": 15,
   "metadata": {
    "collapsed": false
   },
   "outputs": [],
   "source": [
    "magnitude = earthquakes_14_to_15.Mag\n"
   ]
  },
  {
   "cell_type": "code",
   "execution_count": 16,
   "metadata": {
    "collapsed": false
   },
   "outputs": [
    {
     "data": {
      "text/plain": [
       "0      2.6ML\n",
       "1          0\n",
       "2      2.8ML\n",
       "3      2.9ML\n",
       "4      1.9ML\n",
       "5      2.3ML\n",
       "6      1.9ML\n",
       "7      2.3ML\n",
       "8      1.8ML\n",
       "9      2.0ML\n",
       "10     2.0ML\n",
       "11     2.1ML\n",
       "12     2.0ML\n",
       "13     2.0ML\n",
       "14     2.2ML\n",
       "15     2.1ML\n",
       "16     2.1ML\n",
       "17     2.5ML\n",
       "18     2.2ML\n",
       "19     1.9ML\n",
       "20     2.5ML\n",
       "21     1.6ML\n",
       "22     1.7ML\n",
       "23     1.5ML\n",
       "24     2.1ML\n",
       "25     2.0ML\n",
       "26     2.0ML\n",
       "27     3.5ML\n",
       "28     2.2ML\n",
       "29     2.0ML\n",
       "       ...  \n",
       "265    1.7ML\n",
       "266    1.4ML\n",
       "267    1.9ML\n",
       "268    1.6ML\n",
       "269    1.8ML\n",
       "270    2.3ML\n",
       "271    2.0ML\n",
       "272    2.6ML\n",
       "273    2.1ML\n",
       "274    2.5ML\n",
       "275    2.2ML\n",
       "276    2.0ML\n",
       "277    1.8ML\n",
       "278    1.7ML\n",
       "279    1.8ML\n",
       "280    2.4ML\n",
       "281    3.0ML\n",
       "282    1.7ML\n",
       "283    2.1ML\n",
       "284    2.6ML\n",
       "285    3.6ML\n",
       "286    2.2ML\n",
       "287    2.8ML\n",
       "288    3.0ML\n",
       "289    2.0ML\n",
       "290    2.0ML\n",
       "291    2.5ML\n",
       "292    2.0ML\n",
       "293    2.3ML\n",
       "294    1.7ML\n",
       "Name: Mag, dtype: object"
      ]
     },
     "execution_count": 16,
     "metadata": {},
     "output_type": "execute_result"
    }
   ],
   "source": [
    "#create a variable that has the column I want to work with, incase I want quick and clear access to the column\n",
    "magnitude = earthquakes_14_to_15.Mag\n",
    "#check to see what the data type is. It's a float, which means it will be very difficult to analyse and plot the data.\n",
    "pd.Series(earthquakes_14_to_15.Mag)"
   ]
  },
  {
   "cell_type": "code",
   "execution_count": 10,
   "metadata": {
    "collapsed": false
   },
   "outputs": [],
   "source": [
    "#create my test function. I want to change the type from an object to a float. Therefore, if I observe the type \n",
    "#of the column (which is currently an object), I want to be a float type. I expect it to be a float after I change it.\n",
    "def test_column():\n",
    "    obs = earthquakes_14_to_15.Mag.dtype\n",
    "    exp = 'float64'\n",
    "    assert obs == exp, 'There should only be floats in the Mag column'"
   ]
  },
  {
   "cell_type": "code",
   "execution_count": 11,
   "metadata": {
    "collapsed": true
   },
   "outputs": [],
   "source": [
    "exp = 'float64'"
   ]
  },
  {
   "cell_type": "code",
   "execution_count": 12,
   "metadata": {
    "collapsed": false
   },
   "outputs": [],
   "source": [
    "#create a function through which to test the test function. The test_column is going to observe the column of choice, \n",
    "#in this case magnitude, and return the type. We need to be able to check the type of the values within the series, \n",
    "#not just the type because the type is series...need to go one step deeper essentially?? \n",
    "def column():\n",
    "    earthquakes_14_to_15.Mag\n",
    "    return "
   ]
  },
  {
   "cell_type": "code",
   "execution_count": 13,
   "metadata": {
    "collapsed": false
   },
   "outputs": [
    {
     "ename": "AssertionError",
     "evalue": "There should only be floats in the Mag column",
     "output_type": "error",
     "traceback": [
      "\u001b[0;31m---------------------------------------------------------------------------\u001b[0m",
      "\u001b[0;31mAssertionError\u001b[0m                            Traceback (most recent call last)",
      "\u001b[0;32m<ipython-input-13-8e5f1f78c09d>\u001b[0m in \u001b[0;36m<module>\u001b[0;34m()\u001b[0m\n\u001b[0;32m----> 1\u001b[0;31m \u001b[0mtest_column\u001b[0m\u001b[0;34m(\u001b[0m\u001b[0;34m)\u001b[0m\u001b[0;34m\u001b[0m\u001b[0m\n\u001b[0m",
      "\u001b[0;32m<ipython-input-10-eccd2c3fe9f6>\u001b[0m in \u001b[0;36mtest_column\u001b[0;34m()\u001b[0m\n\u001b[1;32m      4\u001b[0m     \u001b[0mobs\u001b[0m \u001b[0;34m=\u001b[0m \u001b[0mearthquakes_14_to_15\u001b[0m\u001b[0;34m.\u001b[0m\u001b[0mMag\u001b[0m\u001b[0;34m.\u001b[0m\u001b[0mdtype\u001b[0m\u001b[0;34m\u001b[0m\u001b[0m\n\u001b[1;32m      5\u001b[0m     \u001b[0mexp\u001b[0m \u001b[0;34m=\u001b[0m \u001b[0;34m'float64'\u001b[0m\u001b[0;34m\u001b[0m\u001b[0m\n\u001b[0;32m----> 6\u001b[0;31m     \u001b[0;32massert\u001b[0m \u001b[0mobs\u001b[0m \u001b[0;34m==\u001b[0m \u001b[0mexp\u001b[0m\u001b[0;34m,\u001b[0m \u001b[0;34m'There should only be floats in the Mag column'\u001b[0m\u001b[0;34m\u001b[0m\u001b[0m\n\u001b[0m",
      "\u001b[0;31mAssertionError\u001b[0m: There should only be floats in the Mag column"
     ]
    }
   ],
   "source": [
    "test_column()"
   ]
  },
  {
   "cell_type": "code",
   "execution_count": 17,
   "metadata": {
    "collapsed": false
   },
   "outputs": [],
   "source": [
    "# change the objects into floats so that the test will pass\n",
    "# make a new depth column with is only a number from Depth DF and then change\n",
    "# the string to a float\n",
    "earthquakes_14_to_15['Mag'] = magnitude.str.extract('([0-9.]*)').replace('%','',regex=True).astype('float')\n",
    "\n",
    "# make a new DF column with is only a letter from Depth DF\n",
    "earthquakes_14_to_15['letters'] = magnitude.str.extract('[0-9.]?\\s([A-Z]*)')\n",
    "\n",
    "# delete Depth DF column\n",
    "del earthquakes_14_to_15['letters']"
   ]
  },
  {
   "cell_type": "code",
   "execution_count": 18,
   "metadata": {
    "collapsed": false
   },
   "outputs": [],
   "source": [
    "test_column()"
   ]
  },
  {
   "cell_type": "code",
   "execution_count": 19,
   "metadata": {
    "collapsed": false
   },
   "outputs": [
    {
     "data": {
      "text/html": [
       "<div>\n",
       "<table border=\"1\" class=\"dataframe\">\n",
       "  <thead>\n",
       "    <tr style=\"text-align: right;\">\n",
       "      <th></th>\n",
       "      <th>Dates</th>\n",
       "      <th>Time(UT)</th>\n",
       "      <th>Lat</th>\n",
       "      <th>Long</th>\n",
       "      <th>Depth</th>\n",
       "      <th>Mag</th>\n",
       "    </tr>\n",
       "  </thead>\n",
       "  <tbody>\n",
       "    <tr>\n",
       "      <th>0</th>\n",
       "      <td>11/22/14</td>\n",
       "      <td>2:50:31</td>\n",
       "      <td>57.240</td>\n",
       "      <td>-122.544</td>\n",
       "      <td>6.0*</td>\n",
       "      <td>2.6</td>\n",
       "    </tr>\n",
       "    <tr>\n",
       "      <th>1</th>\n",
       "      <td>11/22/14</td>\n",
       "      <td>21:52:04</td>\n",
       "      <td>56.281</td>\n",
       "      <td>-121.909</td>\n",
       "      <td>5.0g</td>\n",
       "      <td>0.0</td>\n",
       "    </tr>\n",
       "    <tr>\n",
       "      <th>2</th>\n",
       "      <td>11/23/14</td>\n",
       "      <td>1:34:03</td>\n",
       "      <td>56.331</td>\n",
       "      <td>-121.873</td>\n",
       "      <td>10.0g</td>\n",
       "      <td>2.8</td>\n",
       "    </tr>\n",
       "    <tr>\n",
       "      <th>3</th>\n",
       "      <td>11/24/14</td>\n",
       "      <td>10:02:46</td>\n",
       "      <td>56.568</td>\n",
       "      <td>-122.376</td>\n",
       "      <td>10.0g</td>\n",
       "      <td>2.9</td>\n",
       "    </tr>\n",
       "    <tr>\n",
       "      <th>4</th>\n",
       "      <td>11/24/14</td>\n",
       "      <td>21:30:18</td>\n",
       "      <td>57.287</td>\n",
       "      <td>-122.778</td>\n",
       "      <td>5.0g</td>\n",
       "      <td>1.9</td>\n",
       "    </tr>\n",
       "  </tbody>\n",
       "</table>\n",
       "</div>"
      ],
      "text/plain": [
       "      Dates  Time(UT)     Lat     Long  Depth  Mag\n",
       "0  11/22/14   2:50:31  57.240 -122.544   6.0*  2.6\n",
       "1  11/22/14  21:52:04  56.281 -121.909   5.0g  0.0\n",
       "2  11/23/14   1:34:03  56.331 -121.873  10.0g  2.8\n",
       "3  11/24/14  10:02:46  56.568 -122.376  10.0g  2.9\n",
       "4  11/24/14  21:30:18  57.287 -122.778   5.0g  1.9"
      ]
     },
     "execution_count": 19,
     "metadata": {},
     "output_type": "execute_result"
    }
   ],
   "source": [
    "earthquakes_14_to_15.head()"
   ]
  },
  {
   "cell_type": "code",
   "execution_count": null,
   "metadata": {
    "collapsed": false
   },
   "outputs": [],
   "source": []
  },
  {
   "cell_type": "code",
   "execution_count": null,
   "metadata": {
    "collapsed": true
   },
   "outputs": [],
   "source": []
  }
 ],
 "metadata": {
  "kernelspec": {
   "display_name": "Python 3",
   "language": "python",
   "name": "python3"
  },
  "language_info": {
   "codemirror_mode": {
    "name": "ipython",
    "version": 3
   },
   "file_extension": ".py",
   "mimetype": "text/x-python",
   "name": "python",
   "nbconvert_exporter": "python",
   "pygments_lexer": "ipython3",
   "version": "3.4.3"
  }
 },
 "nbformat": 4,
 "nbformat_minor": 0
}
